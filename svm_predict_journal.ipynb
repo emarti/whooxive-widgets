{
 "cells": [
  {
   "cell_type": "markdown",
   "metadata": {},
   "source": [
    "Use fancy machine learning to predict whether an article makes it into Nature/Science or PRL. This time we'll only look at articles in the physics.atom-ph section."
   ]
  },
  {
   "cell_type": "code",
   "execution_count": 1,
   "metadata": {
    "collapsed": false
   },
   "outputs": [],
   "source": [
    "#Need to add parent directoy to sys.path to find 'metadataDB'\n",
    "import sys\n",
    "sys.path.append('../')\n",
    "\n",
    "%matplotlib inline\n",
    "import matplotlib.pyplot as plt \n",
    "import time\n",
    "import numpy as np\n",
    "import re\n",
    "from itertools import combinations\n",
    "import json\n",
    "\n",
    "# Natural language processing toolkit\n",
    "# To use this, run nltk.download() and download 'stopwords'\n",
    "# from nltk.corpus import stopwords\n",
    "# s=stopwords.words('english') + ['']\n",
    "\n",
    "# Machine learning\n",
    "from sklearn.feature_extraction.text import CountVectorizer\n",
    "from sklearn.feature_extraction.text import TfidfTransformer\n",
    "from sklearn.naive_bayes import MultinomialNB\n",
    "from sklearn.linear_model import LogisticRegression\n",
    "from sklearn.svm import LinearSVC, SVC\n",
    "from sklearn.pipeline import Pipeline\n",
    "from sklearn import metrics\n",
    "from sklearn.cross_validation import train_test_split\n",
    "from sklearn.externals import joblib\n",
    "\n",
    "# SQL\n",
    "from sqlalchemy import create_engine\n",
    "from sqlalchemy.orm import sessionmaker\n",
    "from metadataDB.declareDatabase import *\n",
    "from sqlalchemy import or_, and_\n",
    "\n",
    "engine = create_engine(\"sqlite:///../arXiv_metadata.db\", echo=False)\n",
    "Base.metadata.bind = engine\n",
    "DBsession = sessionmaker(bind=engine)\n",
    "session = DBsession()"
   ]
  },
  {
   "cell_type": "code",
   "execution_count": 2,
   "metadata": {
    "collapsed": true
   },
   "outputs": [],
   "source": [
    "journals_dict = {'PRL': ['Physics Review Letters%',\n",
    "                    'Phys. Rev. Lett.%',\n",
    "                    'Phys.Rev.Lett.%',\n",
    "                    'PRL%'],\n",
    "                 'PR':  ['Physics Review%',\n",
    "                         'Phys. Rev.%',\n",
    "                         'Phys.Rev.%',\n",
    "                         'PR%'],\n",
    "                 'Nature': ['Nature%',\n",
    "                            'Nat.%',\n",
    "                            'Science%'],\n",
    "                 'APL': ['APL%',\n",
    "                         'Appl.Phys.Lett.%',\n",
    "                         'Appl. Phys. Lett.%',\n",
    "                         'Applied Physics Letters%'],\n",
    "                 'AP': ['AP%',\n",
    "                        'Appl.Phys.%',\n",
    "                        'Appl. Phys.%',\n",
    "                        'Applied Physics%'],\n",
    "                 'PL': ['Physics Letters%',\n",
    "                        'Phys. Lett.%',\n",
    "                        'Phys.Lett.%'],\n",
    "                 'All': ['%'],\n",
    "                 }\n"
   ]
  },
  {
   "cell_type": "code",
   "execution_count": 3,
   "metadata": {
    "collapsed": false
   },
   "outputs": [],
   "source": [
    "def get_abstracts(journal):\n",
    "#     query = session.query(Article)\\\n",
    "#                     .filter(*[Article.journal_ref.like(x) for x in journals_dict[journal]])\n",
    "    query = session.query(Article_Category)\\\n",
    "                    .join(Category)\\\n",
    "                    .join(Article)\\\n",
    "                    .filter(Category.name.like('%'),\n",
    "                            or_(*[Article.journal_ref.like(x) for x in journals_dict[journal]]))\n",
    "    # Don't need to clean up text: CountVectorizer will do everything\n",
    "    return [ result.article.abstract for result in query ]\n",
    "\n",
    "\n",
    "def learn(journals):\n",
    "    abstracts1 = get_abstracts(journals[0])\n",
    "    abstracts2 = get_abstracts(journals[1])\n",
    "    \n",
    "    half_test_size = int(round(0.1*min(len(abstracts1),len(abstracts2))))\n",
    "\n",
    "\n",
    "    X1_train, X1_test, y1_train, y1_test = train_test_split(abstracts1, [0]*len(abstracts1), test_size=half_test_size, random_state=42)\n",
    "    X2_train, X2_test, y2_train, y2_test = train_test_split(abstracts2, [1]*len(abstracts2), test_size=half_test_size, random_state=42)\n",
    "    \n",
    "    X_train = X1_train + X2_train\n",
    "    X_test = X1_test + X2_test\n",
    "    y_train = np.array(y1_train + y2_train)\n",
    "    y_test = np.array(y1_test + y2_test)\n",
    "    target_names = journals\n",
    "    \n",
    "    print (len(X1_train), len(X2_train))\n",
    "    \n",
    "    clf = Pipeline([('vect', CountVectorizer(ngram_range=(1,3),stop_words='english')),\n",
    "                    ('tfidf', TfidfTransformer()),\n",
    "                    ('clf', LinearSVC(C=10,penalty='l1',dual=False,fit_intercept=True))])\n",
    "\n",
    "    clf.fit(X_train, y_train)\n",
    "#     y_predict_train = clf.predict(X_train)\n",
    "    y_predict_test = clf.predict(X_test)\n",
    "    \n",
    "    # To save memory, I will retrain the countvectorizer on only the nonzero entries to the coefficient matrix.\n",
    "    \n",
    "    nonzero_coefs = np.nonzero(np.squeeze(clf.named_steps['clf'].coef_))\n",
    "    useful_words = np.array(clf.named_steps['vect'].get_feature_names())[nonzero_coefs]\n",
    "    \n",
    "    clf2 = Pipeline([('vect', CountVectorizer(ngram_range=(1,3),stop_words='english',vocabulary=useful_words)),\n",
    "                    ('tfidf', TfidfTransformer()),\n",
    "                    ('clf', LinearSVC(C=10,penalty='l1',dual=False,fit_intercept=True))])\n",
    "    clf2.fit(X_train, y_train)\n",
    "    y_predict_test2 = clf2.predict(X_test)\n",
    "    \n",
    "    print 'Full model'\n",
    "    print (metrics.classification_report(y_test, y_predict_test,\n",
    "                                    target_names=target_names))\n",
    "\n",
    "    print metrics.confusion_matrix(y_test, y_predict_test)\n",
    "    print 'Accuracy: %f' % (metrics.accuracy_score(y_test, y_predict_test))\n",
    "    \n",
    "    print ''\n",
    "    print 'Reduced model'\n",
    "    print (metrics.classification_report(y_test, y_predict_test2,\n",
    "                                    target_names=target_names))\n",
    "\n",
    "    print metrics.confusion_matrix(y_test, y_predict_test2)\n",
    "    print 'Accuracy: %f' % (metrics.accuracy_score(y_test, y_predict_test2))\n",
    "    \n",
    "    return (clf, clf2)\n",
    "\n"
   ]
  },
  {
   "cell_type": "code",
   "execution_count": 4,
   "metadata": {
    "collapsed": false
   },
   "outputs": [
    {
     "name": "stdout",
     "output_type": "stream",
     "text": [
      "(32590, 5215)\n",
      "Full model\n",
      "             precision    recall  f1-score   support\n",
      "\n",
      "        PRL       0.92      0.97      0.95       579\n",
      "     Nature       0.97      0.92      0.94       579\n",
      "\n",
      "avg / total       0.94      0.94      0.94      1158\n",
      "\n",
      "[[560  19]\n",
      " [ 46 533]]\n",
      "Accuracy: 0.943869\n",
      "\n",
      "Reduced model\n",
      "             precision    recall  f1-score   support\n",
      "\n",
      "        PRL       0.88      0.99      0.93       579\n",
      "     Nature       0.98      0.87      0.92       579\n",
      "\n",
      "avg / total       0.93      0.93      0.93      1158\n",
      "\n",
      "[[571   8]\n",
      " [ 78 501]]\n",
      "Accuracy: 0.925734\n",
      "120.923759937\n"
     ]
    }
   ],
   "source": [
    "# categories = ['atom-ph']\n",
    "# categories = ['atom-ph', 'quant-ph', 'cond-mat', 'str-el']\n",
    "# journals = ['PRL', 'PL', 'Nature']\n",
    "journals = ['PRL', 'Nature']\n",
    "\n",
    "start = time.time()\n",
    "\n",
    "# clf_journal = learn(journals, categories[0])\n",
    "clf_journal, clf_journal2 = learn(journals)\n",
    "\n",
    "print (time.time() - start)\n",
    "\n"
   ]
  },
  {
   "cell_type": "code",
   "execution_count": 5,
   "metadata": {
    "collapsed": false
   },
   "outputs": [
    {
     "name": "stdout",
     "output_type": "stream",
     "text": [
      "79.4636948109\n"
     ]
    }
   ],
   "source": [
    "start = time.time()\n",
    "joblib.dump((clf_journal, ['Phys. Rev. Lett.', 'Nature/Science']), 'svm_journal_old.pkl', compress=1)\n",
    "print (time.time() - start)"
   ]
  },
  {
   "cell_type": "code",
   "execution_count": 8,
   "metadata": {
    "collapsed": false
   },
   "outputs": [
    {
     "name": "stdout",
     "output_type": "stream",
     "text": [
      "0.393079042435\n"
     ]
    }
   ],
   "source": [
    "start = time.time()\n",
    "joblib.dump((clf_journal2, ['Phys. Rev. Lett.', 'Nature/Science']), 'svm_journal.pkl', compress=1)\n",
    "print (time.time() - start)"
   ]
  },
  {
   "cell_type": "code",
   "execution_count": null,
   "metadata": {
    "collapsed": true
   },
   "outputs": [],
   "source": []
  }
 ],
 "metadata": {
  "kernelspec": {
   "display_name": "Python 2",
   "language": "python",
   "name": "python2"
  },
  "language_info": {
   "codemirror_mode": {
    "name": "ipython",
    "version": 2
   },
   "file_extension": ".py",
   "mimetype": "text/x-python",
   "name": "python",
   "nbconvert_exporter": "python",
   "pygments_lexer": "ipython2",
   "version": "2.7.11"
  }
 },
 "nbformat": 4,
 "nbformat_minor": 0
}
