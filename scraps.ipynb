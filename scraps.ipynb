{
 "cells": [
  {
   "cell_type": "code",
   "execution_count": 59,
   "metadata": {
    "collapsed": false
   },
   "outputs": [],
   "source": [
    "from sklearn.externals import joblib\n",
    "from sklearn.feature_selection import SelectFromModel\n",
    "import numpy as np"
   ]
  },
  {
   "cell_type": "code",
   "execution_count": 165,
   "metadata": {
    "collapsed": false
   },
   "outputs": [],
   "source": [
    "clf_journal, journal_labels = joblib.load('svm_journal.pkl')\n",
    "clf_category, category_labeller = joblib.load('svm_category_small.pkl')"
   ]
  },
  {
   "cell_type": "code",
   "execution_count": 166,
   "metadata": {
    "collapsed": false
   },
   "outputs": [
    {
     "name": "stdout",
     "output_type": "stream",
     "text": [
      "[0 1]\n",
      "[{'name': 'atom-ph', 'value': 1}, {'name': 'quant-ph', 'value': 1}]\n"
     ]
    }
   ],
   "source": [
    "category_classes = category_labeller.classes\n",
    "category_prediction = clf_category.predict(['hello quantum physics'])[0]\n",
    "print category_prediction\n",
    "print [{'name': y, 'value': int(x in category_prediction)} for x, y in enumerate(category_classes)]"
   ]
  },
  {
   "cell_type": "code",
   "execution_count": 167,
   "metadata": {
    "collapsed": false
   },
   "outputs": [
    {
     "name": "stdout",
     "output_type": "stream",
     "text": [
      "1\n",
      "[{'name': 'PRL', 'value': 0}, {'name': 'Nature', 'value': 1}]\n"
     ]
    }
   ],
   "source": [
    "journal_prediction = clf_journal.predict(['hello quantum physics'])[0]\n",
    "print journal_prediction\n",
    "print [{'name': y, 'value': int(x==journal_prediction)} for x, y in enumerate(journal_labels)]"
   ]
  },
  {
   "cell_type": "code",
   "execution_count": 168,
   "metadata": {
    "collapsed": false
   },
   "outputs": [
    {
     "data": {
      "text/plain": [
       "1"
      ]
     },
     "execution_count": 168,
     "metadata": {},
     "output_type": "execute_result"
    }
   ],
   "source": [
    "abstract = u\"Models of Ultracold gases promise access to many-body quantum phenomena at convenient length and time scales. However, it is unclear whether the entropy of these gases is low enough to realize many phenomena relevant to condensed matter physics, such as quantum magnetism. Here we report reliable single-shot temperature measurements of a degenerate 87Rb gas by imaging the momentum distribution of thermalized magnons, which are spin excitations of the atomic gas. We record average temperatures as low as 0.022(1)stat(2)sys times the Bose-Einstein condensation temperature, indicating an entropy per particle, S/N≈0.001kB at equilibrium, that is well below the critical entropy for antiferromagnetic ordering of a Bose-Hubbard system. The magnons themselves can reduce the temperature of the system by absorbing energy during thermalization and by enhancing evaporative cooling, allowing low-entropy gases to be produced within deep traps.\"\n",
    "clf_journal.predict([abstract])[0]"
   ]
  },
  {
   "cell_type": "code",
   "execution_count": 169,
   "metadata": {
    "collapsed": true
   },
   "outputs": [],
   "source": [
    "# Find top ten and bottom ten from the "
   ]
  },
  {
   "cell_type": "code",
   "execution_count": 302,
   "metadata": {
    "collapsed": false
   },
   "outputs": [],
   "source": [
    "terms =  clf_journal.named_steps['vect'].get_feature_names()\n",
    "\n",
    "a = clf_journal.named_steps['clf'].coef_ \n",
    "b = (clf_journal.named_steps['tfidf'].transform(clf_journal.named_steps['vect'].transform([abstract])))\n",
    "\n",
    "c = np.squeeze(a*b.toarray())\n",
    "# c_ind = c.argsort()\n",
    "\n",
    "c_max = np.max(np.abs(c))\n",
    "\n",
    "most_important_words = sorted([(terms[x], y)\n",
    "                               for x, y in enumerate(c)\n",
    "                               if c[x] != 0],\n",
    "                              key=lambda x: -np.abs(x[1]))\n",
    "\n",
    "# Break up n-grams, making sure to double-count words\n"
   ]
  },
  {
   "cell_type": "code",
   "execution_count": 303,
   "metadata": {
    "collapsed": false
   },
   "outputs": [
    {
     "data": {
      "text/plain": [
       "[(u'here we', 0.41907769275408358),\n",
       " (u'here we report', 0.37706820189096085),\n",
       " (u'of', 0.25940012939287832),\n",
       " (u'many', 0.22342232653962274),\n",
       " (u'momentum distribution', -0.19081715835054716),\n",
       " (u'phenomena', 0.16765550601567533),\n",
       " (u'however', 0.16555941949877012),\n",
       " (u'by', 0.12378838110509842),\n",
       " (u'here', 0.11948037399502504),\n",
       " (u'to', 0.11818752171101547),\n",
       " (u'is well', -0.11438775439683598),\n",
       " (u'quantum', 0.11269995098523902),\n",
       " (u'we', -0.1056600512172184),\n",
       " (u'we report', 0.10241246163984964),\n",
       " (u'condensed matter', 0.093659357216366132),\n",
       " (u'imaging', 0.081169142451884363),\n",
       " (u'physics', 0.080281878324287487),\n",
       " (u'and', 0.076639681934972281),\n",
       " (u'within', 0.076399379744939877),\n",
       " (u'as', 0.068005665961236264),\n",
       " (u'gas', 0.057861657273778629),\n",
       " (u'that is', -0.055842012449405856),\n",
       " (u'that', 0.055490875925126609),\n",
       " (u'excitations', 0.051765503463337068),\n",
       " (u'which are', -0.043151045981944337),\n",
       " (u'the', 0.042974841852510201),\n",
       " (u'system', 0.042753622686925785),\n",
       " (u'such as', 0.042051594201974546),\n",
       " (u'gases', 0.040951990116101983),\n",
       " (u'at', 0.039898412501264656),\n",
       " (u'whether', 0.036800546743689565),\n",
       " (u'relevant', -0.036475741509947271),\n",
       " (u'of the', -0.03618776729926728),\n",
       " (u'of these', 0.034847367263687257),\n",
       " (u'measurements', 0.034291857152253268),\n",
       " (u'ultracold', 0.033335807191135013),\n",
       " (u'these', 0.032379076275015149),\n",
       " (u'particle', 0.030968393749979069),\n",
       " (u'temperature of', -0.029063111679506353),\n",
       " (u'of the system', -0.026043742650329781),\n",
       " (u'an', 0.025935751787978235),\n",
       " (u'spin', 0.025807855810044609),\n",
       " (u'magnetism', 0.025263671762051836),\n",
       " (u'matter', 0.02280852051454503),\n",
       " (u'times the', 0.022351901790982287),\n",
       " (u'such', 0.020285373474050503),\n",
       " (u'critical', 0.018852870315493157),\n",
       " (u'are', 0.017720494642480787),\n",
       " (u'entropy of', -0.012026779488907451),\n",
       " (u'time', -0.0098154322299080776),\n",
       " (u'to be', -0.0059808483185078238),\n",
       " (u'single', 0.0054106243595864042),\n",
       " (u'thermalization', -0.0035976386650698527),\n",
       " (u'be', -0.0030240583056138108),\n",
       " (u'for', -0.002571408142501801),\n",
       " (u'the system', -0.0022287723375453441)]"
      ]
     },
     "execution_count": 303,
     "metadata": {},
     "output_type": "execute_result"
    }
   ],
   "source": [
    "most_important_words"
   ]
  },
  {
   "cell_type": "code",
   "execution_count": 328,
   "metadata": {
    "collapsed": false
   },
   "outputs": [
    {
     "name": "stdout",
     "output_type": "stream",
     "text": [
      "#FF7F7F\n"
     ]
    }
   ],
   "source": [
    "def backgroundcolor(x):\n",
    "    R = \"%0.2X\" % int(max(0, min(255, 255*(1-x))))\n",
    "    G = \"%0.2X\" % int(max(0, min(255, 255*(1-np.abs(x)))))\n",
    "    B = \"%0.2X\" % int(max(0, min(255, 255*(1+x))))\n",
    "    return \"#\" + R+G+B\n",
    "\n",
    "def color(x):\n",
    "    R = \"%0.2X\" % int(max(0, min(255, 255*(-x))))\n",
    "    G = \"00\"\n",
    "    B = \"%0.2X\" % int(max(0, min(255, 255*(+x))))\n",
    "    return \"#\" + R+G+B\n",
    "print backgroundcolor(-.5)"
   ]
  },
  {
   "cell_type": "code",
   "execution_count": 326,
   "metadata": {
    "collapsed": false
   },
   "outputs": [
    {
     "name": "stdout",
     "output_type": "stream",
     "text": [
      "models <span style=\"background-color:#ffbcbc\">of</span> <span style=\"background-color:#fff6f6\">ultracold</span> <span style=\"background-color:#fff4f4\">gases</span> promise access <span style=\"background-color:#ffe0e0\">to</span> <span style=\"background-color:#ffc6c6\">many</span>-body <span style=\"background-color:#ffe2e2\">quantum</span> <span style=\"background-color:#ffd4d4\">phenomena</span> <span style=\"background-color:#fff4f4\">at</span> convenient length <span style=\"background-color:#ffebeb\">and</span> <span style=\"background-color:#fcfcff\">time</span> scales. <span style=\"background-color:#ffd4d4\">however</span>, it is unclear <span style=\"background-color:#fff5f5\">whether</span> <span style=\"background-color:#fff4f4\">the</span> entropy <span style=\"background-color:#ffbcbc\">of</span> <span style=\"background-color:#fff6f6\">these</span> <span style=\"background-color:#fff4f4\">gases</span> is low enough <span style=\"background-color:#ffe0e0\">to</span> realize <span style=\"background-color:#ffc6c6\">many</span> <span style=\"background-color:#ffd4d4\">phenomena</span> <span style=\"background-color:#f5f5ff\">relevant</span> <span style=\"background-color:#ffe0e0\">to</span> <span style=\"background-color:#ffe7e7\">condensed matter</span> <span style=\"background-color:#ffeaea\">physics</span>, <span style=\"background-color:#fff9f9\">such</span> <span style=\"background-color:#ffeded\">as</span> <span style=\"background-color:#ffe2e2\">quantum</span> <span style=\"background-color:#fff8f8\">magnetism</span>. <span style=\"background-color:#ff9494\">here we</span> report reliable <span style=\"background-color:#fffdfd\">single</span>-shot temperature <span style=\"background-color:#fff6f6\">measurements</span> <span style=\"background-color:#ffbcbc\">of</span> a degenerate 87rb <span style=\"background-color:#fff0f0\">gas</span> <span style=\"background-color:#ffdfdf\">by</span> <span style=\"background-color:#ffeaea\">imaging</span> <span style=\"background-color:#fff4f4\">the</span> <span style=\"background-color:#ceceff\">momentum distribution</span> <span style=\"background-color:#ffbcbc\">of</span> thermalized magnons, <span style=\"background-color:#f3f3ff\">which are</span> <span style=\"background-color:#fff8f8\">spin</span> <span style=\"background-color:#fff1f1\">excitations</span> <span style=\"background-color:#ffbcbc\">of</span> <span style=\"background-color:#fff4f4\">the</span> atomic <span style=\"background-color:#fff0f0\">gas</span>. <span style=\"background-color:#e4e4ff\">we</span> record average temperatures <span style=\"background-color:#ffeded\">as</span> low <span style=\"background-color:#ffeded\">as</span> 0.022(1)stat(2)sys times <span style=\"background-color:#fff4f4\">the</span> bose-einstein condensation temperature, indicating <span style=\"background-color:#fff8f8\">an</span> entropy per <span style=\"background-color:#fff7f7\">particle</span>, s/n≈0.001kb <span style=\"background-color:#fff4f4\">at</span> equilibrium, <span style=\"background-color:#fff0f0\">that</span> <span style=\"background-color:#e1e1ff\">is well</span> below <span style=\"background-color:#fff4f4\">the</span> <span style=\"background-color:#fffafa\">critical</span> entropy <span style=\"background-color:#fefeff\">for</span> antiferromagnetic ordering <span style=\"background-color:#ffbcbc\">of</span> a bose-hubbard <span style=\"background-color:#fff4f4\">system</span>. <span style=\"background-color:#fff4f4\">the</span> magnons themselves can reduce <span style=\"background-color:#fff4f4\">the</span> temperature <span style=\"background-color:#ffbcbc\">of</span> <span style=\"background-color:#fff4f4\">the</span> <span style=\"background-color:#fff4f4\">system</span> <span style=\"background-color:#ffdfdf\">by</span> absorbing energy during <span style=\"background-color:#fefeff\">thermalization</span> <span style=\"background-color:#ffebeb\">and</span> <span style=\"background-color:#ffdfdf\">by</span> enhancing evaporative cooling, allowing low-entropy <span style=\"background-color:#fff4f4\">gases</span> <span style=\"background-color:#ffe0e0\">to</span> <span style=\"background-color:#fefeff\">be</span> produced <span style=\"background-color:#ffebeb\">within</span> deep traps.\n"
     ]
    }
   ],
   "source": [
    "import re\n",
    "abstract_colored = abstract.lower()\n",
    "abstract_colored = abstract_colored.replace('@', '')\n",
    "for item in most_important_words:\n",
    "    newString =\"<@@%s\\\">%s<@>\" \\\n",
    "                  % (backgroundcolor(-item[1]), item[0].upper())\n",
    "    abstract_colored = re.sub(r\"\\b%s\\b\" % item[0],\n",
    "                              newString,\n",
    "                             abstract_colored)\n",
    "#     break;\n",
    "abstract_colored = abstract_colored.replace(\"@@\",\n",
    "                                    \"span style=\\\"background-color:\")\n",
    "abstract_colored = abstract_colored.replace(\"@\", \"/span\")\n",
    "abstract_colored = abstract_colored.lower()\n",
    "print abstract_colored"
   ]
  },
  {
   "cell_type": "code",
   "execution_count": 283,
   "metadata": {
    "collapsed": false
   },
   "outputs": [
    {
     "name": "stdout",
     "output_type": "stream",
     "text": [
      "<p><span style=\"background-color:#FF0000\">duh</span> <span style=\"background-color:#FF3838\">duh</span> <span style=\"background-color:#FF7171\">duh</span> <span style=\"background-color:#FFAAAA\">duh</span> <span style=\"background-color:#FFE2E2\">duh</span> <span style=\"background-color:#E2E2FF\">duh</span> <span style=\"background-color:#AAAAFF\">duh</span> <span style=\"background-color:#7171FF\">duh</span> <span style=\"background-color:#3838FF\">duh</span> <span style=\"background-color:#0000FF\">duh</span></p>\n"
     ]
    },
    {
     "data": {
      "text/html": [
       "<p><span style=\"background-color:#FF0000\">duh</span> <span style=\"background-color:#FF3838\">duh</span> <span style=\"background-color:#FF7171\">duh</span> <span style=\"background-color:#FFAAAA\">duh</span> <span style=\"background-color:#FFE2E2\">duh</span> <span style=\"background-color:#E2E2FF\">duh</span> <span style=\"background-color:#AAAAFF\">duh</span> <span style=\"background-color:#7171FF\">duh</span> <span style=\"background-color:#3838FF\">duh</span> <span style=\"background-color:#0000FF\">duh</span></p>"
      ],
      "text/plain": [
       "<IPython.core.display.HTML object>"
      ]
     },
     "execution_count": 283,
     "metadata": {},
     "output_type": "execute_result"
    }
   ],
   "source": [
    "x = np.linspace(-1, 1, 10)\n",
    "tmp = []\n",
    "for x0 in x:\n",
    "    tmp.append(\"<span style=\\\"background-color:%s\\\">%s</span>\" % (backgroundcolor(x0), \"duh\"))\n",
    "html = \"<p>\" + \" \".join(tmp) + \"</p>\"\n",
    "print html\n",
    "\n",
    "from IPython.display import HTML\n",
    "HTML(html)"
   ]
  },
  {
   "cell_type": "code",
   "execution_count": 327,
   "metadata": {
    "collapsed": false
   },
   "outputs": [
    {
     "data": {
      "text/html": [
       "models <span style=\"background-color:#ffbcbc\">of</span> <span style=\"background-color:#fff6f6\">ultracold</span> <span style=\"background-color:#fff4f4\">gases</span> promise access <span style=\"background-color:#ffe0e0\">to</span> <span style=\"background-color:#ffc6c6\">many</span>-body <span style=\"background-color:#ffe2e2\">quantum</span> <span style=\"background-color:#ffd4d4\">phenomena</span> <span style=\"background-color:#fff4f4\">at</span> convenient length <span style=\"background-color:#ffebeb\">and</span> <span style=\"background-color:#fcfcff\">time</span> scales. <span style=\"background-color:#ffd4d4\">however</span>, it is unclear <span style=\"background-color:#fff5f5\">whether</span> <span style=\"background-color:#fff4f4\">the</span> entropy <span style=\"background-color:#ffbcbc\">of</span> <span style=\"background-color:#fff6f6\">these</span> <span style=\"background-color:#fff4f4\">gases</span> is low enough <span style=\"background-color:#ffe0e0\">to</span> realize <span style=\"background-color:#ffc6c6\">many</span> <span style=\"background-color:#ffd4d4\">phenomena</span> <span style=\"background-color:#f5f5ff\">relevant</span> <span style=\"background-color:#ffe0e0\">to</span> <span style=\"background-color:#ffe7e7\">condensed matter</span> <span style=\"background-color:#ffeaea\">physics</span>, <span style=\"background-color:#fff9f9\">such</span> <span style=\"background-color:#ffeded\">as</span> <span style=\"background-color:#ffe2e2\">quantum</span> <span style=\"background-color:#fff8f8\">magnetism</span>. <span style=\"background-color:#ff9494\">here we</span> report reliable <span style=\"background-color:#fffdfd\">single</span>-shot temperature <span style=\"background-color:#fff6f6\">measurements</span> <span style=\"background-color:#ffbcbc\">of</span> a degenerate 87rb <span style=\"background-color:#fff0f0\">gas</span> <span style=\"background-color:#ffdfdf\">by</span> <span style=\"background-color:#ffeaea\">imaging</span> <span style=\"background-color:#fff4f4\">the</span> <span style=\"background-color:#ceceff\">momentum distribution</span> <span style=\"background-color:#ffbcbc\">of</span> thermalized magnons, <span style=\"background-color:#f3f3ff\">which are</span> <span style=\"background-color:#fff8f8\">spin</span> <span style=\"background-color:#fff1f1\">excitations</span> <span style=\"background-color:#ffbcbc\">of</span> <span style=\"background-color:#fff4f4\">the</span> atomic <span style=\"background-color:#fff0f0\">gas</span>. <span style=\"background-color:#e4e4ff\">we</span> record average temperatures <span style=\"background-color:#ffeded\">as</span> low <span style=\"background-color:#ffeded\">as</span> 0.022(1)stat(2)sys times <span style=\"background-color:#fff4f4\">the</span> bose-einstein condensation temperature, indicating <span style=\"background-color:#fff8f8\">an</span> entropy per <span style=\"background-color:#fff7f7\">particle</span>, s/n≈0.001kb <span style=\"background-color:#fff4f4\">at</span> equilibrium, <span style=\"background-color:#fff0f0\">that</span> <span style=\"background-color:#e1e1ff\">is well</span> below <span style=\"background-color:#fff4f4\">the</span> <span style=\"background-color:#fffafa\">critical</span> entropy <span style=\"background-color:#fefeff\">for</span> antiferromagnetic ordering <span style=\"background-color:#ffbcbc\">of</span> a bose-hubbard <span style=\"background-color:#fff4f4\">system</span>. <span style=\"background-color:#fff4f4\">the</span> magnons themselves can reduce <span style=\"background-color:#fff4f4\">the</span> temperature <span style=\"background-color:#ffbcbc\">of</span> <span style=\"background-color:#fff4f4\">the</span> <span style=\"background-color:#fff4f4\">system</span> <span style=\"background-color:#ffdfdf\">by</span> absorbing energy during <span style=\"background-color:#fefeff\">thermalization</span> <span style=\"background-color:#ffebeb\">and</span> <span style=\"background-color:#ffdfdf\">by</span> enhancing evaporative cooling, allowing low-entropy <span style=\"background-color:#fff4f4\">gases</span> <span style=\"background-color:#ffe0e0\">to</span> <span style=\"background-color:#fefeff\">be</span> produced <span style=\"background-color:#ffebeb\">within</span> deep traps."
      ],
      "text/plain": [
       "<IPython.core.display.HTML object>"
      ]
     },
     "execution_count": 327,
     "metadata": {},
     "output_type": "execute_result"
    }
   ],
   "source": [
    "from IPython.display import HTML\n",
    "HTML(abstract_colored)"
   ]
  },
  {
   "cell_type": "code",
   "execution_count": null,
   "metadata": {
    "collapsed": true
   },
   "outputs": [],
   "source": []
  },
  {
   "cell_type": "code",
   "execution_count": null,
   "metadata": {
    "collapsed": true
   },
   "outputs": [],
   "source": []
  },
  {
   "cell_type": "code",
   "execution_count": null,
   "metadata": {
    "collapsed": true
   },
   "outputs": [],
   "source": [
    "abstract_colored = []\n",
    "for word in abstract.split():\n",
    "    if word in most_important_word_dict.keys():\n",
    "        abstract_colored.append(\"<span style=\\\"background-color:%s\\\">%s</span>\"\n",
    "                                % (backgroundcolor(-most_important_word_dict[word]), word))\n",
    "        \n",
    "        break\n",
    "    else:\n",
    "        abstract_colored.append(word)"
   ]
  },
  {
   "cell_type": "code",
   "execution_count": 291,
   "metadata": {
    "collapsed": false
   },
   "outputs": [
    {
     "data": {
      "text/html": [
       "<p>Models <span style=\"background-color:#FFBCBC\">of</span> Ultracold <span style=\"background-color:#FFF4F4\">gases</span> promise access <span style=\"background-color:#FFE0E0\">to</span> many-body <span style=\"background-color:#FFE2E2\">quantum</span> <span style=\"background-color:#FFD4D4\">phenomena</span> <span style=\"background-color:#FFF4F4\">at</span> convenient length <span style=\"background-color:#FFEBEB\">and</span> <span style=\"background-color:#FCFCFF\">time</span> scales. However, it is unclear <span style=\"background-color:#FFF5F5\">whether</span> <span style=\"background-color:#FFF4F4\">the</span> entropy <span style=\"background-color:#FFBCBC\">of</span> <span style=\"background-color:#FFF6F6\">these</span> <span style=\"background-color:#FFF4F4\">gases</span> is low enough <span style=\"background-color:#FFE0E0\">to</span> realize <span style=\"background-color:#FFC6C6\">many</span> <span style=\"background-color:#FFD4D4\">phenomena</span> <span style=\"background-color:#F5F5FF\">relevant</span> <span style=\"background-color:#FFE0E0\">to</span> condensed <span style=\"background-color:#FFF9F9\">matter</span> physics, <span style=\"background-color:#FFF9F9\">such</span> <span style=\"background-color:#FFEDED\">as</span> <span style=\"background-color:#FFE2E2\">quantum</span> magnetism. Here <span style=\"background-color:#E4E4FF\">we</span> report reliable single-shot temperature <span style=\"background-color:#FFF6F6\">measurements</span> <span style=\"background-color:#FFBCBC\">of</span> a degenerate 87Rb <span style=\"background-color:#FFF0F0\">gas</span> <span style=\"background-color:#FFDFDF\">by</span> <span style=\"background-color:#FFEAEA\">imaging</span> <span style=\"background-color:#FFF4F4\">the</span> momentum distribution <span style=\"background-color:#FFBCBC\">of</span> thermalized magnons, which <span style=\"background-color:#FFFAFA\">are</span> <span style=\"background-color:#FFF8F8\">spin</span> <span style=\"background-color:#FFF1F1\">excitations</span> <span style=\"background-color:#FFBCBC\">of</span> <span style=\"background-color:#FFF4F4\">the</span> atomic gas. We record average temperatures <span style=\"background-color:#FFEDED\">as</span> low <span style=\"background-color:#FFEDED\">as</span> 0.022(1)stat(2)sys times <span style=\"background-color:#FFF4F4\">the</span> Bose-Einstein condensation temperature, indicating <span style=\"background-color:#FFF8F8\">an</span> entropy per particle, S/N≈0.001kB <span style=\"background-color:#FFF4F4\">at</span> equilibrium, <span style=\"background-color:#FFF0F0\">that</span> is well below <span style=\"background-color:#FFF4F4\">the</span> <span style=\"background-color:#FFFAFA\">critical</span> entropy <span style=\"background-color:#FEFEFF\">for</span> antiferromagnetic ordering <span style=\"background-color:#FFBCBC\">of</span> a Bose-Hubbard system. The magnons themselves can reduce <span style=\"background-color:#FFF4F4\">the</span> temperature <span style=\"background-color:#FFBCBC\">of</span> <span style=\"background-color:#FFF4F4\">the</span> <span style=\"background-color:#FFF4F4\">system</span> <span style=\"background-color:#FFDFDF\">by</span> absorbing energy during <span style=\"background-color:#FEFEFF\">thermalization</span> <span style=\"background-color:#FFEBEB\">and</span> <span style=\"background-color:#FFDFDF\">by</span> enhancing evaporative cooling, allowing low-entropy <span style=\"background-color:#FFF4F4\">gases</span> <span style=\"background-color:#FFE0E0\">to</span> <span style=\"background-color:#FEFEFF\">be</span> produced <span style=\"background-color:#FFEBEB\">within</span> deep traps.</p>"
      ],
      "text/plain": [
       "<IPython.core.display.HTML object>"
      ]
     },
     "execution_count": 291,
     "metadata": {},
     "output_type": "execute_result"
    }
   ],
   "source": [
    "abstract_colored = []\n",
    "for word in abstract.split():\n",
    "    if word in most_important_word_dict.keys():\n",
    "        abstract_colored.append(\"<span style=\\\"background-color:%s\\\">%s</span>\"\n",
    "                                % (backgroundcolor(-most_important_word_dict[word]), word))\n",
    "    else:\n",
    "        abstract_colored.append(word)\n",
    "from IPython.display import HTML\n",
    "html = \"<p>\" + \" \".join(abstract_colored) + \"</p>\"\n",
    "HTML(html)\n",
    "# print html\n"
   ]
  },
  {
   "cell_type": "code",
   "execution_count": 99,
   "metadata": {
    "collapsed": false
   },
   "outputs": [
    {
     "name": "stdout",
     "output_type": "stream",
     "text": [
      "[u'properties we show', u'property', u'property and', u'property and provides', u'property can', u'property can be', u'property of', u'property of trapped', u'proportional', u'000']\n"
     ]
    }
   ],
   "source": [
    "\n",
    "print [terms[x] for x in c[-10:]]"
   ]
  },
  {
   "cell_type": "code",
   "execution_count": 92,
   "metadata": {
    "collapsed": false
   },
   "outputs": [
    {
     "data": {
      "text/plain": [
       "<1x121424 sparse matrix of type '<type 'numpy.float64'>'\n",
       "\twith 3 stored elements in Compressed Sparse Row format>"
      ]
     },
     "execution_count": 92,
     "metadata": {},
     "output_type": "execute_result"
    }
   ],
   "source": [
    "(clf_journal.named_steps['tfidf'].transform(clf_journal.named_steps['vect'].transform(['crystal cavity'])))"
   ]
  },
  {
   "cell_type": "code",
   "execution_count": 93,
   "metadata": {
    "collapsed": true
   },
   "outputs": [],
   "source": [
    "c = np.squeeze(a*b.toarray()).argsort()[::-1]"
   ]
  },
  {
   "cell_type": "code",
   "execution_count": 94,
   "metadata": {
    "collapsed": false
   },
   "outputs": [
    {
     "name": "stdout",
     "output_type": "stream",
     "text": [
      "[u'have', u'of', u'to', u'the', u'system', u'zurek theory namely', u'for generation of', u'for ground based', u'for ground', u'for generic strongly']\n"
     ]
    }
   ],
   "source": [
    "print [terms[x] for x in c[0:10]]"
   ]
  },
  {
   "cell_type": "code",
   "execution_count": 104,
   "metadata": {
    "collapsed": false
   },
   "outputs": [
    {
     "data": {
      "text/plain": [
       "array([[ 0.,  0.,  0., ...,  0.,  0.,  0.]])"
      ]
     },
     "execution_count": 104,
     "metadata": {},
     "output_type": "execute_result"
    }
   ],
   "source": [
    "c = a*b.toarray()\n",
    "ind = c.argsort()[::-1]\n",
    "c[0:10]"
   ]
  },
  {
   "cell_type": "code",
   "execution_count": null,
   "metadata": {
    "collapsed": true
   },
   "outputs": [],
   "source": []
  }
 ],
 "metadata": {
  "kernelspec": {
   "display_name": "Python 2",
   "language": "python",
   "name": "python2"
  },
  "language_info": {
   "codemirror_mode": {
    "name": "ipython",
    "version": 2
   },
   "file_extension": ".py",
   "mimetype": "text/x-python",
   "name": "python",
   "nbconvert_exporter": "python",
   "pygments_lexer": "ipython2",
   "version": "2.7.11"
  }
 },
 "nbformat": 4,
 "nbformat_minor": 0
}
